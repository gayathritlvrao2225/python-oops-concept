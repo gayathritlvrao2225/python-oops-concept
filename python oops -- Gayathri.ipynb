{
 "cells": [
  {
   "cell_type": "code",
   "execution_count": 2,
   "id": "03d9aac3-ecd0-4054-95ab-26bb90a78b97",
   "metadata": {},
   "outputs": [],
   "source": [
    "#creating a class "
   ]
  },
  {
   "cell_type": "code",
   "execution_count": 77,
   "id": "0984921a-12f7-4f7f-9621-f559d17f067b",
   "metadata": {},
   "outputs": [],
   "source": [
    "class student:\n",
    "    points  = 10"
   ]
  },
  {
   "cell_type": "code",
   "execution_count": 73,
   "id": "1eac33c7-6c5f-4041-8fb3-1dc326bc7a0b",
   "metadata": {},
   "outputs": [],
   "source": [
    "#creating an object for a class"
   ]
  },
  {
   "cell_type": "code",
   "execution_count": 79,
   "id": "d5c043a8-f0d1-4cea-807b-a4f88289bcea",
   "metadata": {},
   "outputs": [
    {
     "name": "stdout",
     "output_type": "stream",
     "text": [
      "10\n"
     ]
    }
   ],
   "source": [
    "grade = student()\n",
    "print(grade.points)"
   ]
  },
  {
   "cell_type": "code",
   "execution_count": 81,
   "id": "4e9e1755-af7b-4087-b761-6067bb1f80e6",
   "metadata": {},
   "outputs": [],
   "source": [
    "#The init() function"
   ]
  },
  {
   "cell_type": "code",
   "execution_count": 85,
   "id": "0ea791a6-5f7d-4a3e-8192-22222112b6ff",
   "metadata": {},
   "outputs": [],
   "source": [
    "#>>>the init method is called the constructer"
   ]
  },
  {
   "cell_type": "code",
   "execution_count": 87,
   "id": "77edb343-2506-4ab2-b8ec-57905b5c69bd",
   "metadata": {},
   "outputs": [],
   "source": [
    "#>>it executes when object is created"
   ]
  },
  {
   "cell_type": "code",
   "execution_count": 89,
   "id": "7e3d3790-fcf1-498b-ac97-1afdd8c5261b",
   "metadata": {},
   "outputs": [],
   "source": [
    "class job:\n",
    "    def __init__(self, name,subject):\n",
    "        self.name = name\n",
    "        self.subject = subject\n",
    "        \n",
    " #creating a job object\n",
    "my_job = job(name = \"teacher\",subject = \"physics\")\n"
   ]
  },
  {
   "cell_type": "code",
   "execution_count": 91,
   "id": "d0530909-95ab-4627-9b6f-2ddd5f2f1fb4",
   "metadata": {},
   "outputs": [],
   "source": [
    "#the str method"
   ]
  },
  {
   "cell_type": "code",
   "execution_count": 93,
   "id": "52d346f2-557f-49d0-9571-f0abe6599c94",
   "metadata": {},
   "outputs": [
    {
     "name": "stdout",
     "output_type": "stream",
     "text": [
      " i am teacher,i teach physics\n",
      " i am teacher,i teach physics\n"
     ]
    }
   ],
   "source": [
    "class job:\n",
    "    def __init__(self, name,subject):\n",
    "        self.name = name\n",
    "        self.subject = subject\n",
    "    def __str__(self): \n",
    "        return f\" i am {self.name},i teach {self.subject}\"\n",
    "        \n",
    " #creating a job object\n",
    "my_job = job(name = \"teacher\",subject = \"physics\")\n",
    "print(str(my_job))\n",
    "print(my_job)"
   ]
  },
  {
   "cell_type": "code",
   "execution_count": 4,
   "id": "579c3ba1-3104-4438-94e5-1a8e244e7065",
   "metadata": {},
   "outputs": [],
   "source": [
    "#examples for class"
   ]
  },
  {
   "cell_type": "code",
   "execution_count": 10,
   "id": "2e1e4aa9-abcb-4b44-9ff5-90f12a71b000",
   "metadata": {},
   "outputs": [
    {
     "name": "stdout",
     "output_type": "stream",
     "text": [
      "diptheriae is air borne\n",
      "c.welchii is water borne\n"
     ]
    }
   ],
   "source": [
    "#example 1\n",
    "class virus:\n",
    "    def __init__(self, name,infections):\n",
    "        self.name = name\n",
    "        self.infections = infections\n",
    "    def disease(self):\n",
    "        print(\"not so critical\")\n",
    "virus1 = virus(\"diptheriae\",\"air borne\")\n",
    "virus2 = virus(\"c.welchii\",\"water borne\")\n",
    "print(f\"{virus1.name} is {virus1.infections}\")\n",
    "print(f\"{virus2.name} is {virus2.infections}\")"
   ]
  },
  {
   "cell_type": "code",
   "execution_count": 95,
   "id": "cfe70212-6c2c-4b39-8123-b6a2be4fc520",
   "metadata": {},
   "outputs": [
    {
     "name": "stdout",
     "output_type": "stream",
     "text": [
      "kummis is avicenna \n",
      "keifer is  champange of dairy world\n"
     ]
    }
   ],
   "source": [
    "#example2\n",
    "class milk:\n",
    "    def __init__(self, name,bevarage):\n",
    "        self.name = name\n",
    "        self.bevarage = bevarage\n",
    "    def product(self):\n",
    "        print(\"healthy\")\n",
    "milk1 = milk(\"kummis\",\"avicenna \")\n",
    "milk2 = milk(\"keifer\",\" champange of dairy world\")\n",
    "print(f\"{milk1.name} is {milk1.bevarage}\")\n",
    "print(f\"{milk2.name} is {milk2.bevarage}\")\n"
   ]
  },
  {
   "cell_type": "code",
   "execution_count": 100,
   "id": "403cb99a-2058-4f88-8bdc-5aa7a4d282eb",
   "metadata": {},
   "outputs": [
    {
     "name": "stdout",
     "output_type": "stream",
     "text": [
      "acidophillus is used for diarrhea\n",
      "bifidous is used for digestion\n"
     ]
    }
   ],
   "source": [
    "#example3\n",
    "class milkproduct:\n",
    "    def __init__(self,name,treatment):\n",
    "        self.name = name\n",
    "        self.treatment = treatment\n",
    "    def probiotic(self):\n",
    "        print(\"good\")\n",
    "product1 = milkproduct(\"acidophillus\",\"diarrhea\")\n",
    "product2 = milkproduct(\"bifidous\",\"digestion\")\n",
    "print(f\"{product1.name} is used for {product1.treatment}\")\n",
    "print(f\"{product2.name} is used for {product2.treatment}\")"
   ]
  },
  {
   "cell_type": "code",
   "execution_count": 97,
   "id": "ad703e0b-661a-4b72-8c43-ec7edc834b42",
   "metadata": {},
   "outputs": [
    {
     "name": "stdout",
     "output_type": "stream",
     "text": [
      "yoghurt is fermented\n",
      "cheese is processed\n"
     ]
    }
   ],
   "source": [
    "#example4\n",
    "class dairy:\n",
    "    def __init__(self,name,food):\n",
    "        self.name = name\n",
    "        self.food = food\n",
    "    def milkbasis(self):\n",
    "        print(\"tastey\")\n",
    "product1 = dairy (\"yoghurt\",\"fermented\")\n",
    "product2 = dairy (\"cheese\",\"processed\")\n",
    "print(f\"{product1.name} is {product1.food}\")\n",
    "print(f\"{product2.name} is {product2.food}\")"
   ]
  },
  {
   "cell_type": "code",
   "execution_count": 102,
   "id": "69b59d4f-999b-46c9-8efc-466b3530779d",
   "metadata": {},
   "outputs": [
    {
     "name": "stdout",
     "output_type": "stream",
     "text": [
      "sound waves is about sound\n",
      "em waves is about em\n"
     ]
    }
   ],
   "source": [
    "#example5\n",
    "class physics:\n",
    "    def __init__(self,chapter,topic):\n",
    "        self.chapter = chapter\n",
    "        self.topic = topic\n",
    "    def subject(self):\n",
    "        print(\"knowledge\")\n",
    "topic1 = physics(\"sound waves\",\"sound\")  \n",
    "topic2 = physics(\"em waves\",\"em\")  \n",
    "print(f\"{topic1.chapter} is about {topic1.topic}\")\n",
    "print(f\"{topic2.chapter} is about {topic2.topic}\")"
   ]
  },
  {
   "cell_type": "code",
   "execution_count": 104,
   "id": "82665edf-14b0-45fb-b0df-0ac3e56a59e1",
   "metadata": {},
   "outputs": [],
   "source": [
    "#python inheritance"
   ]
  },
  {
   "cell_type": "code",
   "execution_count": 106,
   "id": "72cf997b-8fc5-4b1b-aea6-fd7a0fd5440e",
   "metadata": {},
   "outputs": [
    {
     "name": "stdout",
     "output_type": "stream",
     "text": [
      "i can learn\n",
      "i can study\n",
      "i can teach\n",
      "i can listen\n"
     ]
    }
   ],
   "source": [
    "#base class\n",
    "class student:\n",
    "    def learn(self):\n",
    "        print(\"i can learn\")\n",
    "    def study(self):\n",
    "        print(\"i can study\")\n",
    " #derived class\n",
    "class indu(student):\n",
    "    def teach(self):\n",
    "        print (\"i can teach\")\n",
    "class navya(student):\n",
    "       def listen (self):\n",
    "        print(\"i can listen\")  \n",
    "student1 = student()\n",
    "student2 = student()\n",
    "student3 = indu()\n",
    "student4 = navya()\n",
    "student1.learn()\n",
    "student2.study()\n",
    "student3.teach()\n",
    "student4.listen()"
   ]
  },
  {
   "cell_type": "code",
   "execution_count": 108,
   "id": "df1881bd-a940-4956-8ace-60fd651b3ac9",
   "metadata": {},
   "outputs": [
    {
     "name": "stdout",
     "output_type": "stream",
     "text": [
      "i can teach\n",
      "i can explain\n",
      "i can teach physics\n",
      "i can teach microbiology\n"
     ]
    }
   ],
   "source": [
    "#base class\n",
    "class teacher :\n",
    "    def teach(self):\n",
    "        print(\"i can teach\")\n",
    "    def explain(self):    \n",
    "        print(\"i can explain\")\n",
    "#derived class\n",
    "class physics(teacher):\n",
    "    def teach(self):\n",
    "        print(\"i can teach physics\")\n",
    "class microbiology(teacher):\n",
    "    def teach(self):\n",
    "         print(\"i can teach microbiology\")\n",
    "teacher1 = teacher()\n",
    "teacher2 = teacher()\n",
    "teacher3 = physics()\n",
    "teacher4 = microbiology()\n",
    "teacher1.teach()\n",
    "teacher2.explain()\n",
    "teacher3.teach()\n",
    "teacher4.teach()"
   ]
  },
  {
   "cell_type": "code",
   "execution_count": null,
   "id": "95199bfc-c477-43d9-aec2-7876995e6eff",
   "metadata": {},
   "outputs": [],
   "source": []
  }
 ],
 "metadata": {
  "kernelspec": {
   "display_name": "anaconda-panel-2023.05-py310",
   "language": "python",
   "name": "conda-env-anaconda-panel-2023.05-py310-py"
  },
  "language_info": {
   "codemirror_mode": {
    "name": "ipython",
    "version": 3
   },
   "file_extension": ".py",
   "mimetype": "text/x-python",
   "name": "python",
   "nbconvert_exporter": "python",
   "pygments_lexer": "ipython3",
   "version": "3.11.5"
  }
 },
 "nbformat": 4,
 "nbformat_minor": 5
}
